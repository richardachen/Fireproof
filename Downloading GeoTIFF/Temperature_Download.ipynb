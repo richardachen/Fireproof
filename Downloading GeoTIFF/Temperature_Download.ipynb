{
  "nbformat": 4,
  "nbformat_minor": 0,
  "metadata": {
    "colab": {
      "name": "Temperature_Download.ipynb",
      "provenance": [],
      "collapsed_sections": [],
      "authorship_tag": "ABX9TyOTjNXyqdTOpBTDMtK9YVJE",
      "include_colab_link": true
    },
    "kernelspec": {
      "name": "python3",
      "display_name": "Python 3"
    },
    "language_info": {
      "name": "python"
    }
  },
  "cells": [
    {
      "cell_type": "markdown",
      "metadata": {
        "id": "view-in-github",
        "colab_type": "text"
      },
      "source": [
        "<a href=\"https://colab.research.google.com/github/richardachen/Fireproof/blob/main/Downloading%20GeoTIFF/Temperature_Download.ipynb\" target=\"_parent\"><img src=\"https://colab.research.google.com/assets/colab-badge.svg\" alt=\"Open In Colab\"/></a>"
      ]
    },
    {
      "cell_type": "code",
      "execution_count": null,
      "metadata": {
        "id": "tqk6RY0leWaw"
      },
      "outputs": [],
      "source": [
        "# import packages\n",
        "\n",
        "import ee\n",
        "from ee import batch\n",
        "from pandas.tseries.offsets import DateOffset\n",
        "import pandas as pd"
      ]
    },
    {
      "cell_type": "code",
      "source": [
        "# initialization\n",
        "ee.Authenticate()\n",
        "ee.Initialize()"
      ],
      "metadata": {
        "colab": {
          "base_uri": "https://localhost:8080/"
        },
        "id": "HV03K-rmecbx",
        "outputId": "416b33d8-3c4e-405c-feb3-e159ffdaefeb"
      },
      "execution_count": null,
      "outputs": [
        {
          "output_type": "stream",
          "name": "stdout",
          "text": [
            "To authorize access needed by Earth Engine, open the following URL in a web browser and follow the instructions. If the web browser does not start automatically, please manually browse the URL below.\n",
            "\n",
            "    https://code.earthengine.google.com/client-auth?scopes=https%3A//www.googleapis.com/auth/earthengine%20https%3A//www.googleapis.com/auth/devstorage.full_control&request_id=QxW7Evr2NWB3yWkehTlQ80yafVtPKKFDvHpTboMSqd8&tc=3-34iNyh0M7YWmsV-iwvIUwjseFpBIsflgPnpT84dcw&cc=2-7Mfx9EtZIpa9BC9jt8BI3cosY9GmF5GExv8R2d2OQ\n",
            "\n",
            "The authorization workflow will generate a code, which you should paste in the box below. \n",
            "Enter verification code: 4/1AX4XfWjV-flG6Ef_9iAhqOr0tupXvh3PyTgDA8aanfbl2yzaiCbrtDQBRqY\n",
            "\n",
            "Successfully saved authorization token.\n"
          ]
        }
      ]
    },
    {
      "cell_type": "code",
      "source": [
        "# Woolsey Fire dates\n",
        "start_date = '2018-11-05'\n",
        "end_date = '2018-11-24'\n",
        "\n",
        "# get climate data\n",
        "lst = ee.ImageCollection('MODIS/006/MOD11A1')\n",
        "lst_collection = ee.ImageCollection(lst.select('LST_Day_1km')).filterDate(start_date, end_date)"
      ],
      "metadata": {
        "id": "4gNiuO1Sed9K"
      },
      "execution_count": null,
      "outputs": []
    },
    {
      "cell_type": "code",
      "source": [
        "# information to save files later on\n",
        "folder_name = 'temperature_maps'\n",
        "scale = 250\n",
        "\n",
        "# Ooo, cool note: \"While we need to have an eye on the frequency, \n",
        "# GEE takes care of resolution and projection by resampling and \n",
        "# reprojecting all data we are going to work with to a common projection\"\n",
        "# https://developers.google.com/earth-engine/tutorials/community/intro-to-python-api\n",
        "\n",
        "# Woolsey Fire locations\n",
        "la_lon = -117.9267511\n",
        "la_lat = 34.2817777\n",
        "la_poi = ee.Geometry.Point(la_lon, la_lat)\n",
        "la = la_poi.buffer(1e5) #1e5 meters"
      ],
      "metadata": {
        "id": "x4lqmLXDefYs"
      },
      "execution_count": null,
      "outputs": []
    },
    {
      "cell_type": "code",
      "source": [
        "# collection = ee.ImageCollection\n",
        "crs = ee.Image(lst_collection.first()).projection()\n",
        "\n",
        "def resample(image):\n",
        "  \"\"\"\n",
        "  Resample to new resolution\n",
        "  \"\"\"\n",
        "  image = image.resample('bilinear').reproject(crs=crs, scale=scale)\n",
        "  return image\n",
        "if scale != 250:\n",
        "  lst_collection = lst_collection.map(resample)"
      ],
      "metadata": {
        "id": "x0-stAncfXA2"
      },
      "execution_count": null,
      "outputs": []
    },
    {
      "cell_type": "code",
      "source": [
        "n = lst_collection.size().getInfo()\n",
        "colList = lst_collection.toList(n)\n",
        "\n",
        "test_image = ee.Image(colList.get(2))\n",
        "info_stuff = test_image.getInfo()\n",
        "print(info_stuff['properties']['system:index'])"
      ],
      "metadata": {
        "colab": {
          "base_uri": "https://localhost:8080/"
        },
        "id": "Kt7N1g8Cfsv_",
        "outputId": "4eb7b51b-df25-49bc-b8b4-2ad34751efc1"
      },
      "execution_count": null,
      "outputs": [
        {
          "output_type": "stream",
          "name": "stdout",
          "text": [
            "2018_11_07\n"
          ]
        }
      ]
    },
    {
      "cell_type": "code",
      "source": [
        "# export GeoTIFF \n",
        "# https://developers.google.com/earth-engine/tutorials/community/intro-to-python-api#save_a_geotiff_file_in_your_google_drive\n",
        "\n",
        "for i in range(n):\n",
        "  image = ee.Image(colList.get(i))\n",
        "  id = image.id().getInfo() or 'image_'+i.toString()\n",
        "  info_stuff = image.getInfo()\n",
        "  date = info_stuff['properties']['system:index']\n",
        "\n",
        "  out = ee.batch.Export.image.toDrive(image=image,\n",
        "                                      description='land_temp_in_greater_los_angeles_area',\n",
        "                                      folder=folder_name,\n",
        "                                      scale=250,\n",
        "                                      region=la,\n",
        "                                      fileNamePrefix='my_export_la_' + date,\n",
        "                                      crs='EPSG:4326',\n",
        "                                      fileFormat='GeoTIFF',\n",
        "                                      maxPixels=1e11)\n",
        "  batch.Task.start(out)"
      ],
      "metadata": {
        "colab": {
          "base_uri": "https://localhost:8080/"
        },
        "id": "sEfJu3JTf1E8",
        "outputId": "f9a63979-f8e0-4b0e-dd4d-3c0bbdaae974"
      },
      "execution_count": null,
      "outputs": [
        {
          "output_type": "stream",
          "name": "stdout",
          "text": [
            "0\n",
            "1\n",
            "2\n",
            "3\n",
            "4\n",
            "5\n",
            "6\n",
            "7\n",
            "8\n",
            "9\n",
            "10\n",
            "11\n",
            "12\n",
            "13\n",
            "14\n",
            "15\n",
            "16\n",
            "17\n",
            "18\n"
          ]
        }
      ]
    }
  ]
}