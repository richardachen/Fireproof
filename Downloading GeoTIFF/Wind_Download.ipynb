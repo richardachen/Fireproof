{
  "nbformat": 4,
  "nbformat_minor": 0,
  "metadata": {
    "colab": {
      "name": "Wind_Download.ipynb",
      "provenance": [],
      "collapsed_sections": [],
      "authorship_tag": "ABX9TyNi6BWIXhJ6yo9+oYIlbze2",
      "include_colab_link": true
    },
    "kernelspec": {
      "name": "python3",
      "display_name": "Python 3"
    },
    "language_info": {
      "name": "python"
    }
  },
  "cells": [
    {
      "cell_type": "markdown",
      "metadata": {
        "id": "view-in-github",
        "colab_type": "text"
      },
      "source": [
        "<a href=\"https://colab.research.google.com/github/richardachen/Fireproof/blob/main/Wind_Download.ipynb\" target=\"_parent\"><img src=\"https://colab.research.google.com/assets/colab-badge.svg\" alt=\"Open In Colab\"/></a>"
      ]
    },
    {
      "cell_type": "code",
      "execution_count": 1,
      "metadata": {
        "id": "ROhFmCFZ89HO"
      },
      "outputs": [],
      "source": [
        "# import packages\n",
        "\n",
        "import ee\n",
        "from ee import batch\n",
        "from pandas.tseries.offsets import DateOffset\n",
        "import pandas as pd"
      ]
    },
    {
      "cell_type": "code",
      "source": [
        "# initialization\n",
        "ee.Authenticate()\n",
        "ee.Initialize()"
      ],
      "metadata": {
        "colab": {
          "base_uri": "https://localhost:8080/"
        },
        "id": "0RlUtdkp9Kdt",
        "outputId": "db6f02cd-f93b-4321-8485-f905e29cfcfa"
      },
      "execution_count": 2,
      "outputs": [
        {
          "output_type": "stream",
          "name": "stdout",
          "text": [
            "To authorize access needed by Earth Engine, open the following URL in a web browser and follow the instructions. If the web browser does not start automatically, please manually browse the URL below.\n",
            "\n",
            "    https://code.earthengine.google.com/client-auth?scopes=https%3A//www.googleapis.com/auth/earthengine%20https%3A//www.googleapis.com/auth/devstorage.full_control&request_id=cTMohA8RB6DnEaCVnXwnwtsb-GX-qfDNRUAYCIGKFns&tc=90hZ87ZXROqrWZAwr5ZFNHbVsWYsMW97H0YxbJkEfWw&cc=rZLaPFNzPX-4afM_PZt4UqBKelY7M4l3GqNVCy0duDI\n",
            "\n",
            "The authorization workflow will generate a code, which you should paste in the box below. \n",
            "Enter verification code: 4/1AX4XfWgPsAiPY9IgGKaCc3nQ_qZ3YDX6EFbR30y_E9Zsq2hSOb7SL4lywDA\n",
            "\n",
            "Successfully saved authorization token.\n"
          ]
        }
      ]
    },
    {
      "cell_type": "code",
      "source": [
        "# Woolsey Fire dates\n",
        "start_date = '2018-11-05'\n",
        "end_date = '2018-11-24'\n",
        "\n",
        "# get climate data\n",
        "gridMET = ee.ImageCollection(\"IDAHO_EPSCOR/GRIDMET\")\n",
        "wind_collection = ee.ImageCollection(gridMET.select('vs')).filterDate(start_date, end_date)"
      ],
      "metadata": {
        "colab": {
          "base_uri": "https://localhost:8080/"
        },
        "id": "igcVKZyrA5Ww",
        "outputId": "936505e7-abbf-4dda-ac75-5629e9e5301e"
      },
      "execution_count": 10,
      "outputs": [
        {
          "output_type": "stream",
          "name": "stdout",
          "text": [
            "ee.Number({\n",
            "  \"functionInvocationValue\": {\n",
            "    \"functionName\": \"Collection.size\",\n",
            "    \"arguments\": {\n",
            "      \"collection\": {\n",
            "        \"functionInvocationValue\": {\n",
            "          \"functionName\": \"Collection.filter\",\n",
            "          \"arguments\": {\n",
            "            \"collection\": {\n",
            "              \"functionInvocationValue\": {\n",
            "                \"functionName\": \"Collection.map\",\n",
            "                \"arguments\": {\n",
            "                  \"baseAlgorithm\": {\n",
            "                    \"functionDefinitionValue\": {\n",
            "                      \"argumentNames\": [\n",
            "                        \"_MAPPING_VAR_0_0\"\n",
            "                      ],\n",
            "                      \"body\": {\n",
            "                        \"functionInvocationValue\": {\n",
            "                          \"functionName\": \"Image.select\",\n",
            "                          \"arguments\": {\n",
            "                            \"bandSelectors\": {\n",
            "                              \"constantValue\": [\n",
            "                                \"vs\"\n",
            "                              ]\n",
            "                            },\n",
            "                            \"input\": {\n",
            "                              \"argumentReference\": \"_MAPPING_VAR_0_0\"\n",
            "                            }\n",
            "                          }\n",
            "                        }\n",
            "                      }\n",
            "                    }\n",
            "                  },\n",
            "                  \"collection\": {\n",
            "                    \"functionInvocationValue\": {\n",
            "                      \"functionName\": \"ImageCollection.load\",\n",
            "                      \"arguments\": {\n",
            "                        \"id\": {\n",
            "                          \"constantValue\": \"IDAHO_EPSCOR/GRIDMET\"\n",
            "                        }\n",
            "                      }\n",
            "                    }\n",
            "                  }\n",
            "                }\n",
            "              }\n",
            "            },\n",
            "            \"filter\": {\n",
            "              \"functionInvocationValue\": {\n",
            "                \"functionName\": \"Filter.dateRangeContains\",\n",
            "                \"arguments\": {\n",
            "                  \"leftValue\": {\n",
            "                    \"functionInvocationValue\": {\n",
            "                      \"functionName\": \"DateRange\",\n",
            "                      \"arguments\": {\n",
            "                        \"end\": {\n",
            "                          \"constantValue\": \"2018-11-24\"\n",
            "                        },\n",
            "                        \"start\": {\n",
            "                          \"constantValue\": \"2018-11-05\"\n",
            "                        }\n",
            "                      }\n",
            "                    }\n",
            "                  },\n",
            "                  \"rightField\": {\n",
            "                    \"constantValue\": \"system:time_start\"\n",
            "                  }\n",
            "                }\n",
            "              }\n",
            "            }\n",
            "          }\n",
            "        }\n",
            "      }\n",
            "    }\n",
            "  }\n",
            "})\n"
          ]
        }
      ]
    },
    {
      "cell_type": "code",
      "source": [
        "# information to save files later on\n",
        "folder_name = 'wind_maps'\n",
        "scale = 250\n",
        "\n",
        "# Ooo, cool note: \"While we need to have an eye on the frequency, \n",
        "# GEE takes care of resolution and projection by resampling and \n",
        "# reprojecting all data we are going to work with to a common projection\"\n",
        "# https://developers.google.com/earth-engine/tutorials/community/intro-to-python-api\n",
        "\n",
        "# Woolsey Fire locations\n",
        "la_lon = -117.9267511\n",
        "la_lat = 34.2817777\n",
        "la_poi = ee.Geometry.Point(la_lon, la_lat)\n",
        "la = la_poi.buffer(1e5) #1e5 meters"
      ],
      "metadata": {
        "id": "bzLL0X3L9WAI"
      },
      "execution_count": 4,
      "outputs": []
    },
    {
      "cell_type": "code",
      "source": [
        "# collection = ee.ImageCollection\n",
        "crs = ee.Image(wind_collection.first()).projection()\n",
        "\n",
        "def resample(image):\n",
        "  \"\"\"\n",
        "  Resample to new resolution\n",
        "  \"\"\"\n",
        "  image = image.resample('bilinear').reproject(crs=crs, scale=scale)\n",
        "  return image\n",
        "if scale != 250:\n",
        "  wind_collection = wind_collection.map(resample)"
      ],
      "metadata": {
        "id": "SI1CXdWD_rMd"
      },
      "execution_count": 5,
      "outputs": []
    },
    {
      "cell_type": "code",
      "source": [
        "n = wind_collection.size().getInfo()\n",
        "colList = wind_collection.toList(n)"
      ],
      "metadata": {
        "colab": {
          "base_uri": "https://localhost:8080/"
        },
        "id": "27qS2JcDAvLO",
        "outputId": "5275dc4f-dd2d-44aa-efea-70d7c251db51"
      },
      "execution_count": 25,
      "outputs": [
        {
          "output_type": "stream",
          "name": "stdout",
          "text": [
            "20181107\n"
          ]
        }
      ]
    },
    {
      "cell_type": "code",
      "source": [
        "# export GeoTIFF \n",
        "# https://developers.google.com/earth-engine/tutorials/community/intro-to-python-api#save_a_geotiff_file_in_your_google_drive\n",
        "\n",
        "for i in range(n):\n",
        "  image = ee.Image(colList.get(i))\n",
        "  id = image.id().getInfo() or 'image_'+i.toString()\n",
        "  info_stuff = image.getInfo()\n",
        "  date = info_stuff['properties']['system:index']\n",
        "\n",
        "  out = ee.batch.Export.image.toDrive(image=image,\n",
        "                                      description='wind_speed_in_greater_los_angeles_area',\n",
        "                                      folder=folder_name,\n",
        "                                      scale=250,\n",
        "                                      region=la,\n",
        "                                      fileNamePrefix='my_export_la_' + date,\n",
        "                                      crs='EPSG:4326',\n",
        "                                      fileFormat='GeoTIFF',\n",
        "                                      maxPixels=1e11)\n",
        "  batch.Task.start(out)"
      ],
      "metadata": {
        "id": "WMypBCKLVOrJ"
      },
      "execution_count": 27,
      "outputs": []
    }
  ]
}
