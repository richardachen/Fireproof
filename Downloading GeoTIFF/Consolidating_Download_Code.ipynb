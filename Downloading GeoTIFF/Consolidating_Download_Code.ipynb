{
  "nbformat": 4,
  "nbformat_minor": 0,
  "metadata": {
    "colab": {
      "name": "Consolidating_Download_Code.ipynb",
      "provenance": [],
      "collapsed_sections": [],
      "mount_file_id": "16aD0I8yzA8DzHSckktndGyZxMt_YAN8w",
      "authorship_tag": "ABX9TyOTvHdJckya0mMlxiykZjQy",
      "include_colab_link": true
    },
    "kernelspec": {
      "name": "python3",
      "display_name": "Python 3"
    },
    "language_info": {
      "name": "python"
    }
  },
  "cells": [
    {
      "cell_type": "markdown",
      "metadata": {
        "id": "view-in-github",
        "colab_type": "text"
      },
      "source": [
        "<a href=\"https://colab.research.google.com/github/richardachen/richardachen.github.io/blob/main/Downloading%20GeoTIFF/Consolidating_Download_Code.ipynb\" target=\"_parent\"><img src=\"https://colab.research.google.com/assets/colab-badge.svg\" alt=\"Open In Colab\"/></a>"
      ]
    },
    {
      "cell_type": "code",
      "execution_count": null,
      "metadata": {
        "id": "tqk6RY0leWaw",
        "colab": {
          "base_uri": "https://localhost:8080/"
        },
        "outputId": "fd07d293-1e31-4da1-bdc9-a87b4e020edb"
      },
      "outputs": [
        {
          "output_type": "stream",
          "name": "stdout",
          "text": [
            "To authorize access needed by Earth Engine, open the following URL in a web browser and follow the instructions. If the web browser does not start automatically, please manually browse the URL below.\n",
            "\n",
            "    https://code.earthengine.google.com/client-auth?scopes=https%3A//www.googleapis.com/auth/earthengine%20https%3A//www.googleapis.com/auth/devstorage.full_control&request_id=k9BuyAPgE7DYtF3rp5GivFk9-aUlTa2K8kEKeDxKXGI&tc=e6ZrkNh3e9M97NqSYGLw7PINJ1dQ8oq3wTEtqok01Qw&cc=uDvJBfT_gTQVINPxQThl0Zd1CMBciUmY9ENps1uYF-w\n",
            "\n",
            "The authorization workflow will generate a code, which you should paste in the box below. \n",
            "Enter verification code: 4/1AX4XfWj7eulXG7COGXh2-8fvhaK7rPZ4beL05yiN05rljyriiewUHEXQrCg\n",
            "\n",
            "Successfully saved authorization token.\n"
          ]
        }
      ],
      "source": [
        "# import packages\n",
        "\n",
        "import ee\n",
        "from ee import batch\n",
        "# https://www.programiz.com/python-programming/datetime/current-datetime\n",
        "from datetime import date\n",
        "\n",
        "# initialization\n",
        "ee.Authenticate()\n",
        "# service_account = \"fireproof@putnam-records.iam.gserviceaccount.com\"\n",
        "# credentials = ee.ServiceAccountCredentials(service_account, '/content/drive/MyDrive/Spring_2022/1.00/Final_Project_Fireproof/fireproof_key.json')\n",
        "# ee.Initialize(credentials)\n",
        "ee.Initialize()\n",
        "start_date = ee.Date('2020-01-01')\n",
        "\n",
        "# get climate data\n",
        "modis = ee.ImageCollection('MODIS/006/MOD11A1')\n",
        "gridMET = ee.ImageCollection(\"IDAHO_EPSCOR/GRIDMET\")\n",
        "fldas = ee.ImageCollection(\"NASA/FLDAS/NOAH01/C/GL/M/V001\")\n",
        "\n",
        "# https://gis.stackexchange.com/questions/354435/filter-image-collection-to-one-specific-date-earth-engine\n",
        "# every day\n",
        "lst_collection = ee.ImageCollection(modis.select('LST_Day_1km')).filterDate(start_date, start_date.advance(1, 'day'))\n",
        "# every day\n",
        "above_wind_collection = ee.ImageCollection(gridMET.select('vs')).filterDate(start_date, start_date.advance(1, 'day'))\n",
        "# every day\n",
        "below_wind_collection = ee.ImageCollection(fldas.select('Wind_f_tavg')).filterDate(start_date, start_date.advance(1, 'day'))\n",
        "# every day\n",
        "max_humidity_collection = ee.ImageCollection(gridMET.select('rmax')).filterDate(start_date, start_date.advance(1, 'day'))\n",
        "# every day\n",
        "min_humidity_collection = ee.ImageCollection(gridMET.select('rmin')).filterDate(start_date, start_date.advance(1, 'day'))\n",
        "\n",
        "scale = 250\n",
        "\n",
        "la_lon = -117.9267511\n",
        "la_lat = 34.2817777\n",
        "la_poi = ee.Geometry.Point(la_lon, la_lat)\n",
        "la = la_poi.buffer(1e5) #1e5 meters\n",
        "\n",
        "crs = ee.Image(lst_collection.first()).projection()\n",
        "\n",
        "def resample(image):\n",
        "  \"\"\"\n",
        "  Resample to new resolution\n",
        "  \"\"\"\n",
        "  image = image.resample('bilinear').reproject(crs=crs, scale=scale)\n",
        "  return image\n",
        "if scale != 250:\n",
        "  lst_collection = lst_collection.map(resample)\n",
        "\n",
        "# n = lst_collection.size().getInfo()\n",
        "lst_colList = lst_collection.toList(1)\n",
        "above_wind_colList = above_wind_collection.toList(1)\n",
        "below_wind_colList = below_wind_collection.toList(1)\n",
        "max_humidity_colList = max_humidity_collection.toList(1)\n",
        "min_humidity_colList = min_humidity_collection.toList(1)\n",
        "\n",
        "type_dict = {\n",
        "    'lst': lst_colList,\n",
        "    '10m_wind': above_wind_colList,\n",
        "    '0m_wind': below_wind_colList,\n",
        "    'max_humidity': max_humidity_colList,\n",
        "    'min_humidity': min_humidity_colList\n",
        "}\n",
        "\n"
      ]
    },
    {
      "cell_type": "code",
      "source": [
        "for i in range(1):\n",
        "  for version in type_dict:\n",
        "    image = ee.Image(type_dict[version].get(i))\n",
        "    id = image.id().getInfo() or 'image_'+i.toString()\n",
        "    info_stuff = image.getInfo()\n",
        "    date = info_stuff['properties']['system:index']\n",
        "\n",
        "    out = ee.batch.Export.image.toDrive(image=image,\n",
        "                                        description=version,\n",
        "                                        folder=version,\n",
        "                                        scale=250,\n",
        "                                        region=la,\n",
        "                                        fileNamePrefix='my_export_' + version + '_' + date,\n",
        "                                        crs='EPSG:4326',\n",
        "                                        fileFormat='GeoTIFF',\n",
        "                                        maxPixels=1e11)\n",
        "    batch.Task.start(out)"
      ],
      "metadata": {
        "id": "T2p02CnuEcEd"
      },
      "execution_count": null,
      "outputs": []
    },
    {
      "cell_type": "code",
      "source": [
        "out.status()"
      ],
      "metadata": {
        "colab": {
          "base_uri": "https://localhost:8080/"
        },
        "id": "ABptH-BSN9Fk",
        "outputId": "9248b5ba-0bcc-4cb3-9a41-1d5dc85b36a0"
      },
      "execution_count": null,
      "outputs": [
        {
          "output_type": "execute_result",
          "data": {
            "text/plain": [
              "{'attempt': 1,\n",
              " 'creation_timestamp_ms': 1651652375931,\n",
              " 'description': 'min_humidity',\n",
              " 'destination_uris': ['https://drive.google.com/#folders/1EX4_Mh85x7wjHW33NBxDfuHsT5BXmCfw'],\n",
              " 'id': '3NRLMJR2OY67O24QHNXOS5XF',\n",
              " 'name': 'projects/earthengine-legacy/operations/3NRLMJR2OY67O24QHNXOS5XF',\n",
              " 'start_timestamp_ms': 1651652495896,\n",
              " 'state': 'COMPLETED',\n",
              " 'task_type': 'EXPORT_IMAGE',\n",
              " 'update_timestamp_ms': 1651652512382}"
            ]
          },
          "metadata": {},
          "execution_count": 41
        }
      ]
    }
  ]
}