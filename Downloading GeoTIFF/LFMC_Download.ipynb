{
  "nbformat": 4,
  "nbformat_minor": 0,
  "metadata": {
    "colab": {
      "name": "LFMC_Download.ipynb",
      "provenance": [],
      "collapsed_sections": [],
      "authorship_tag": "ABX9TyNuAQhQ2gkYx+z3qBcLvIA4",
      "include_colab_link": true
    },
    "kernelspec": {
      "name": "python3",
      "display_name": "Python 3"
    },
    "language_info": {
      "name": "python"
    }
  },
  "cells": [
    {
      "cell_type": "markdown",
      "metadata": {
        "id": "view-in-github",
        "colab_type": "text"
      },
      "source": [
        "<a href=\"https://colab.research.google.com/github/richardachen/Fireproof/blob/main/Downloading%20GeoTIFF/LFMC_Download.ipynb\" target=\"_parent\"><img src=\"https://colab.research.google.com/assets/colab-badge.svg\" alt=\"Open In Colab\"/></a>"
      ]
    },
    {
      "cell_type": "markdown",
      "source": [
        "## Notes to keep in mind for future\n",
        "\n",
        "https://developers.google.com/earth-engine/guides/image_upload"
      ],
      "metadata": {
        "id": "YVhMMS_QPVVz"
      }
    },
    {
      "cell_type": "code",
      "execution_count": 1,
      "metadata": {
        "id": "Gmy6ExGuGhu7"
      },
      "outputs": [],
      "source": [
        "# https://github.com/kkraoj/lfmc_from_sar\n",
        "\n",
        "# -*- coding: utf-8 -*-\n",
        "\"\"\"\n",
        "Created on Thu Mar 19 11:14:09 2020\n",
        "@author: kkrao\n",
        "\"\"\"\n",
        "\n",
        "\n",
        "# -*- coding: utf-8 -*-\n",
        "\"\"\"\n",
        "Created on Tue Jul 31 08:30:32 2018\n",
        "@author: kkrao\n",
        "\"\"\"\n",
        "\n",
        "# Import Packages\n",
        "\n",
        "import ee\n",
        "from ee import batch\n",
        "from pandas.tseries.offsets import DateOffset\n",
        "import pandas as pd"
      ]
    },
    {
      "cell_type": "code",
      "source": [
        "## Initialize (a ee python thing)\n",
        "ee.Authenticate()\n",
        "ee.Initialize()"
      ],
      "metadata": {
        "id": "2u3JNmCYOAN2",
        "colab": {
          "base_uri": "https://localhost:8080/"
        },
        "outputId": "fe3ae94a-bfa0-4690-b230-b0bf6a1d5701"
      },
      "execution_count": 2,
      "outputs": [
        {
          "output_type": "stream",
          "name": "stdout",
          "text": [
            "To authorize access needed by Earth Engine, open the following URL in a web browser and follow the instructions. If the web browser does not start automatically, please manually browse the URL below.\n",
            "\n",
            "    https://code.earthengine.google.com/client-auth?scopes=https%3A//www.googleapis.com/auth/earthengine%20https%3A//www.googleapis.com/auth/devstorage.full_control&request_id=0w75kcs8pgDLVkC_BelakgnGV6flNrLClMugapC_sEY&tc=NhladHuPwV7-MRLqfnflneTdZPrMNaOFIFTl5yW4q88&cc=QVzJCAJOZCA0Nw2HGZTYfCM45Jq7mh7wfCHxMUBgu3w\n",
            "\n",
            "The authorization workflow will generate a code, which you should paste in the box below. \n",
            "Enter verification code: 4/1AX4XfWhh3xwJlLOXheZevzSJ1RgOseuHnU_hCdah7NzS8nWpUvhSOt2lNek\n",
            "\n",
            "Successfully saved authorization token.\n"
          ]
        }
      ]
    },
    {
      "cell_type": "code",
      "source": [
        "#%%\n",
        "# Woolsey fire dates\n",
        "start_date = '2018-10-05'\n",
        "end_date = '2018-12-31'\n",
        "folder_name = 'lfmc_folder' # folder name in Google drive where files should be created\n",
        "scale = 250 #pixel size in meters. lower pixels will consumer more memory and will take longer to download. "
      ],
      "metadata": {
        "id": "3isTzduaOFQ6"
      },
      "execution_count": 9,
      "outputs": []
    },
    {
      "cell_type": "code",
      "source": [
        "# Location of interest: Greater Los Angeles Area\n",
        "# https://www.google.com/maps/place/Greater+Los+Angeles,+CA/@34.2817777,-117.9267511,8.27z/data=!4m5!3m4!1s0x80c4ae9046507dd1:0x5798e2322b786355!8m2!3d33.8726016!4d-118.2848067?hl=en&authuser=1\n",
        "\n",
        "# Woolsey fire locations\n",
        "la_lon = -117.9267511\n",
        "la_lat = 34.2817777\n",
        "la_poi = ee.Geometry.Point(la_lon, la_lat)\n",
        "la = la_poi.buffer(1e5) #1e5 meters"
      ],
      "metadata": {
        "id": "BiqmT_PBPb9Y"
      },
      "execution_count": 10,
      "outputs": []
    },
    {
      "cell_type": "code",
      "source": [
        "#%%#### create strings for start and end dates\n",
        "\n",
        "collection = ee.ImageCollection('users/kkraoj/lfm-mapper/lfmc_col_12_oct_2020').filterDate(start_date,end_date)\n",
        "\n",
        "# crs --> coordinate reference system\n",
        "\n",
        "crs = ee.Image(collection.first()).projection();\n",
        "\n",
        "def resample(image):\n",
        "  \"\"\"\n",
        "  Resample to new resolution\n",
        "  \"\"\"\n",
        "  image = image.resample('bilinear').reproject(crs=crs,scale=scale)\n",
        "  return image\n",
        "\n",
        "if scale!=250: #if user requested resolution is different than native resolution (250m), resample to new resolution\n",
        "    collection = collection.map(resample)"
      ],
      "metadata": {
        "id": "Cg2XEqQPOlAT"
      },
      "execution_count": 11,
      "outputs": []
    },
    {
      "cell_type": "code",
      "source": [
        "n = collection.size().getInfo() # number of images to download\n",
        "colList = collection.toList(n)\n",
        "  \n",
        "for i in range(n):\n",
        "    image = ee.Image(colList.get(i));\n",
        "    id = image.id().getInfo() or 'image_'+i.toString();\n",
        "\n",
        "    out = batch.Export.image.toDrive(\n",
        "      image=image,\n",
        "      folder=folder_name,\n",
        "      description=id,\n",
        "      region = la,\n",
        "      scale=scale,\n",
        "      crs=crs,\n",
        "      fileFormat='GeoTIFF',\n",
        "      maxPixels=1e11\n",
        "    );\n",
        "    batch.Task.start(out)\n",
        "## process the image\n",
        "\n",
        "out.status()\n",
        "print(\"process sent to cloud\")"
      ],
      "metadata": {
        "id": "ARnDKgoKOxS7",
        "colab": {
          "base_uri": "https://localhost:8080/"
        },
        "outputId": "586f2f54-53e7-4313-e629-51f688fa41c4"
      },
      "execution_count": 12,
      "outputs": [
        {
          "output_type": "stream",
          "name": "stdout",
          "text": [
            "process sent to cloud\n"
          ]
        }
      ]
    }
  ]
}